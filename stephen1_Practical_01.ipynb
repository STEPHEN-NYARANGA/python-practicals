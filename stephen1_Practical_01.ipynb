{
 "cells": [
  {
   "cell_type": "markdown",
   "metadata": {},
   "source": [
    "<center>\n",
    "    <a href=\"https://www.aims-senegal.org/\" ><img src=\"aimssn_logo.png\" style=\"float:center; max-width: 600px; display: inline\" alt=\"IMSP\"/> </a>\n",
    "    </center>\n",
    "    \n",
    "#    <center> <b> <span style=\"color:orange;\" >  `Python for Scientific Computing and Software Engineering ` </span> </b></center>\n",
    "\n",
    "\n",
    "## <center> <b> <span style=\"color:orange;\"> An Initiation to Programming using Python (Init2Py) </span> </b></center>\n",
    "\n",
    "### <center> <b> <span style=\"color:blue;\"> Practicals: Variables, Types & Operations </span> </b></center>"
   ]
  },
  {
   "cell_type": "markdown",
   "metadata": {},
   "source": [
    "**Exercise 00:**  \n",
    "\n",
    "> 1. Declare a variable `firstname` and assign it a value.\n",
    "> 2. Declare a `lastname` variable and assign a value to it.\n",
    "> 3. Declare a `full_name` variable and assign it a value.\n",
    "> 4. Declare a `country` variable and assign it a value.\n",
    "> 5. Declare a variable `city` and assign it a value.\n",
    "> 6. Declare a `age` variable and assign it a value.\n",
    "> 7. Declare a variable `year` and assign it a value.\n",
    "> 8. Declare a variable `is_marrie` and assign it a value.\n",
    "> 9. Declare a variable `is_true` and assign it a value.\n",
    "\n",
    "> For each of the above variable, display the value it contains using the `print()` function.\n",
    "\n",
    "\n"
   ]
  },
  {
   "cell_type": "code",
   "execution_count": 8,
   "metadata": {},
   "outputs": [
    {
     "name": "stdout",
     "output_type": "stream",
     "text": [
      "stephen nyaranga stephen nyaranga Kenya Nairobi 25 2021 No YES\n"
     ]
    }
   ],
   "source": [
    "firstname = \"stephen\"\n",
    "lastname = \"nyaranga\"\n",
    "full_name = \"stephen nyaranga\"\n",
    "country = \"Kenya\"\n",
    "city = \"Nairobi\"\n",
    "age = 25\n",
    "year = 2021\n",
    "is_marrie = \"No\"\n",
    "is_true = \"YES\"\n",
    "print(firstname, lastname, full_name, country,city, age,year, is_marrie,is_true)\n"
   ]
  },
  {
   "cell_type": "markdown",
   "metadata": {},
   "source": [
    "**Exercise 01:** \n",
    "> Check the data type of all your variables using the built-in function `type()`.**\n"
   ]
  },
  {
   "cell_type": "code",
   "execution_count": 16,
   "metadata": {},
   "outputs": [
    {
     "data": {
      "text/plain": [
       "str"
      ]
     },
     "execution_count": 16,
     "metadata": {},
     "output_type": "execute_result"
    }
   ],
   "source": [
    "type(firstname)\n",
    "type(lastname)\n",
    "type(full_name)\n",
    "type(city)\n",
    "type(age)\n",
    "type(year)\n",
    "type(is_marrie)\n",
    "type(is_true)"
   ]
  },
  {
   "cell_type": "markdown",
   "metadata": {},
   "source": [
    "**Exercise 02:** \n",
    "> Calculate the value of $y$ ($y = x^2 + 6x + 9$). Try using different values of $x$ and determine at what value of $x$ will $y$ be equal to 0.**"
   ]
  },
  {
   "cell_type": "code",
   "execution_count": 21,
   "metadata": {},
   "outputs": [
    {
     "name": "stdout",
     "output_type": "stream",
     "text": [
      "4489\n"
     ]
    }
   ],
   "source": [
    "x=64\n",
    "y=x*x+6*x+9\n",
    "print(y)"
   ]
  },
  {
   "cell_type": "markdown",
   "metadata": {},
   "source": [
    "**Exercise 03:** \n",
    ">    \n",
    "     1. Declare your age as an integer variable\n",
    "     2. Declare your height as a float variable\n",
    "     3. Declare a variable that stores the base and height of a triangle. Calculate the area of this triangle (area = 0.5 x b x h)."
   ]
  },
  {
   "cell_type": "markdown",
   "metadata": {},
   "source": [
    "## *Tip: receiving input from the user *\n",
    "**To receive an input from the user, we use `input()`.**.\n",
    "\n",
    "**Example**\n",
    "Receive two numbers as input from the user and calculate their power:\n",
    "```python\n",
    "base = input(\"Enter a base: \")\n",
    "exponent = input(\"Enter an exponent: \")\n",
    "result = float(base) ** float(exponent)\n",
    "print(f \"{base} to the power of {exponent} = {result}\")\n",
    "```"
   ]
  },
  {
   "cell_type": "markdown",
   "metadata": {},
   "source": [
    "**Exercise 04:** \n",
    "> **Write a small code that asks the user to enter the side $a$, the side $b$ and the side $c$ of a triangle. Calculate the perimeter of the triangle (perimeter = a + b + c).**"
   ]
  },
  {
   "cell_type": "code",
   "execution_count": 32,
   "metadata": {
    "scrolled": true
   },
   "outputs": [
    {
     "name": "stdout",
     "output_type": "stream",
     "text": [
      "Enter a base: 5\n",
      "Enter an exponent: 5\n",
      "results equals 20\n"
     ]
    }
   ],
   "source": [
    "base =input(\"Enter a base: \")\n",
    "exponent =input(\"Enter an exponent: \")\n",
    "result =float(base) ** float(exponent)\n",
    "print(\"results equals\",perimeter)\n",
    "      "
   ]
  },
  {
   "cell_type": "markdown",
   "metadata": {},
   "source": [
    "**Exercise 05:** \n",
    "> **Obtain the length and width of a rectangle using the prompt. Calculate its `area`and its `perimeter`.**"
   ]
  },
  {
   "cell_type": "code",
   "execution_count": 41,
   "metadata": {},
   "outputs": [
    {
     "name": "stdout",
     "output_type": "stream",
     "text": [
      "Enter length: 10\n",
      "Enter width: 5\n",
      "area equals 50.0\n",
      "perimeter equals 30.0\n"
     ]
    }
   ],
   "source": [
    "length=input(\"Enter length: \")\n",
    "width=input(\"Enter width: \")\n",
    "area = float(length) * float(width)\n",
    "perimeter = 2*float(length) + 2*float(width)\n",
    "print(\"area equals\",area)\n",
    "print(\"perimeter equals\",perimeter) \n"
   ]
  },
  {
   "cell_type": "markdown",
   "metadata": {},
   "source": [
    "**Exercice 06:** \n",
    "> **Obtenez le rayon d'un cercle en utilisant l'invite. Calculez l'aire (aire = pi x r x r) et la circonférence (c = 2 x pi x r) où pi = 3,14.**"
   ]
  },
  {
   "cell_type": "code",
   "execution_count": 43,
   "metadata": {},
   "outputs": [
    {
     "name": "stdout",
     "output_type": "stream",
     "text": [
      "Enter radius:10\n",
      "area equals 314.0\n",
      "perimeter equals 62.800000000000004\n"
     ]
    }
   ],
   "source": [
    "radius=input(\"Enter radius:\")\n",
    "pi=3.14\n",
    "area=pi*float(radius)*float(radius)\n",
    "perimeter=2*pi*float(radius)\n",
    "print(\"area equals\",area)\n",
    "print(\"perimeter equals\",perimeter)"
   ]
  },
  {
   "cell_type": "markdown",
   "metadata": {},
   "source": [
    "**Exercice 07:**\n",
    "> **Calculez la pente, l'ordonnée à l'origine en x et l'ordonnée à l'origine en $y$ de $y = 2x -2$.**"
   ]
  },
  {
   "cell_type": "code",
   "execution_count": 53,
   "metadata": {},
   "outputs": [
    {
     "ename": "SyntaxError",
     "evalue": "invalid syntax (<ipython-input-53-6ae395576591>, line 8)",
     "output_type": "error",
     "traceback": [
      "\u001b[0;36m  File \u001b[0;32m\"<ipython-input-53-6ae395576591>\"\u001b[0;36m, line \u001b[0;32m8\u001b[0m\n\u001b[0;31m    print (slope)\u001b[0m\n\u001b[0m        ^\u001b[0m\n\u001b[0;31mSyntaxError\u001b[0m\u001b[0;31m:\u001b[0m invalid syntax\n"
     ]
    }
   ],
   "source": [
    "c=6\n",
    "x=4 \n",
    "a=2 * x-2\n",
    "y=2 * float(x)-2\n",
    "k=float(a)- float(y)\n",
    "w=float(c)-Float(x)\n",
    "slope(float(k)/float(w)\n",
    "print (slope)\n"
   ]
  },
  {
   "cell_type": "markdown",
   "metadata": {},
   "source": [
    "**Exercice 08:** \n",
    "> **Rédigez un script qui demande à l'utilisateur d'entrer les heures et le taux horaire. Calculez la rémunération de la personne ?**"
   ]
  },
  {
   "cell_type": "code",
   "execution_count": 55,
   "metadata": {},
   "outputs": [
    {
     "name": "stdout",
     "output_type": "stream",
     "text": [
      "Enter hours: 2\n",
      "Enter rate: 200\n",
      "renumeration equals 400.0\n"
     ]
    }
   ],
   "source": [
    "hours=input(\"Enter hours: \")\n",
    "rate= input(\"Enter rate: \")\n",
    "renumeration= float(hours)*float(rate)\n",
    "print(\"renumeration equals\",renumeration)"
   ]
  },
  {
   "cell_type": "markdown",
   "metadata": {},
   "source": [
    "**Exercice 09:** \n",
    "> **Écrivez un script qui demande à l'utilisateur d'entrer le nombre d'années. Calculez le nombre de secondes qu'une personne peut vivre. Supposons qu'une personne puisse vivre cent ans.**"
   ]
  },
  {
   "cell_type": "code",
   "execution_count": 57,
   "metadata": {},
   "outputs": [
    {
     "name": "stdout",
     "output_type": "stream",
     "text": [
      "Enter years:34\n",
      "total equals 1069286400\n"
     ]
    }
   ],
   "source": [
    "years=input(\"Enter years:\")\n",
    "seconds=int(31449600)\n",
    "total=int(seconds)*int(years)\n",
    "print(\"total equals\",total)"
   ]
  },
  {
   "cell_type": "markdown",
   "metadata": {},
   "source": [
    "**Exercice 10:** \n",
    "> **Écrivez un script Python qui affiche le tableau suivant**\n",
    "\n",
    "    1 1 1 1 1\n",
    "    \n",
    "    2 1 2 4 8\n",
    "    \n",
    "    3 1 3 9 27\n",
    "    \n",
    "    4 1 4 16 64\n",
    "    \n",
    "    5 1 5 25 125"
   ]
  },
  {
   "cell_type": "code",
   "execution_count": 88,
   "metadata": {},
   "outputs": [
    {
     "name": "stdout",
     "output_type": "stream",
     "text": [
      "[{'2', '16', '4', '1', '125', '83', '9274', '5', '27', '645', '12', '3'}]\n"
     ]
    }
   ],
   "source": [
    "mydata=[{\"1\",\"1\",\"1\",\"1\"\n",
    "      \"2\",\"1\",\"2\",\"4\",\"8\"\n",
    "      \"3\",\"1\",\"3\",\"9\"\"27\"\n",
    "      \"4\",\"1\",\"4\",\"16\",\"64\"\n",
    "      \"5\",\"1\",\"5\",\"27\",\"125\"}]\n",
    "print(mydata)\n"
   ]
  },
  {
   "cell_type": "markdown",
   "metadata": {},
   "source": [
    "**Exercise 11:** \n",
    ">**Assign the variables `time` and `distance` with the values $6.892$ and $19.7$. Calculate and display the value of the speed. Improve the display by imposing a digit after the decimal point.**"
   ]
  },
  {
   "cell_type": "code",
   "execution_count": 63,
   "metadata": {},
   "outputs": [
    {
     "name": "stdout",
     "output_type": "stream",
     "text": [
      "speed equal 3\n"
     ]
    }
   ],
   "source": [
    "distance=19.7\n",
    "time=6.892\n",
    "speed=round(float(distance) / float(time))\n",
    "print(\"speed equal\",speed)\n"
   ]
  },
  {
   "cell_type": "raw",
   "metadata": {},
   "source": [
    "**Exercice 12:** \n",
    "> **Écrire un programme qui, à partir de la saisie d’un rayon et d’une hauteur, calcule levolume d’un cône droit.**"
   ]
  },
  {
   "cell_type": "code",
   "execution_count": null,
   "metadata": {},
   "outputs": [],
   "source": []
  },
  {
   "cell_type": "markdown",
   "metadata": {},
   "source": [
    "**Exercise 13:** \n",
    "> **The user gives a positive integer and the program announces how many times in a row this integer is divisible by 2.**"
   ]
  },
  {
   "cell_type": "code",
   "execution_count": 86,
   "metadata": {},
   "outputs": [
    {
     "name": "stdout",
     "output_type": "stream",
     "text": [
      "Enter g:8\n",
      "divisible equal 4.0\n"
     ]
    }
   ],
   "source": [
    "g=input(\"Enter g:\")\n",
    "divisible=float(g)/2\n",
    "print(\"divisible equal\",divisible)"
   ]
  },
  {
   "cell_type": "markdown",
   "metadata": {},
   "source": [
    "**Exercise 14:** \n",
    ">**The user gives an integer between 2 and 12, the program gives the number of ways to do this by rolling two dice."
   ]
  },
  {
   "cell_type": "code",
   "execution_count": null,
   "metadata": {},
   "outputs": [],
   "source": []
  },
  {
   "cell_type": "markdown",
   "metadata": {},
   "source": [
    "**Exercice 15:** \n",
    "> **Utilisez la fonction d'entrée intégrée `input()` pour obtenir le `_prénom_`, le `_nom_`, le `_pays_d_origine` et l'`_age_` d'un utilisateur et stockez la valeur dans les noms des variables correspondantes.**"
   ]
  },
  {
   "cell_type": "code",
   "execution_count": null,
   "metadata": {},
   "outputs": [],
   "source": []
  },
  {
   "cell_type": "markdown",
   "metadata": {},
   "source": [
    "**Exercice 16:** \n",
    "\n",
    "**Déclarer $5$ comme `num_one` et $4$ comme `num_two`**\n",
    "\n",
    "   1. Additionner `num_one` et `num_two` et affecter la valeur à une variable `totale`.\n",
    "   2. Soustraire `num_two` de `num_one` et affecter la valeur à une variable `diff`.\n",
    "   3. Multipliez le `num_one` et le `num_two` et attribuez la valeur à une variable `produit`.\n",
    "   4. Divisez le `num_one` par le `num_two` et attribuez la valeur à une variable `division`.\n",
    "   5. Calculez `num_one` à la puissance de `num_two` et attribuez la valeur à une variable `exp`."
   ]
  },
  {
   "cell_type": "code",
   "execution_count": null,
   "metadata": {},
   "outputs": [],
   "source": []
  },
  {
   "cell_type": "markdown",
   "metadata": {},
   "source": [
    "<center> <b> <span style=\"color:orange;\"> 🎉 FÉLICITATIONS! / CONGRATULATIONS! 🎉 </span> </b></center>"
   ]
  }
 ],
 "metadata": {
  "kernelspec": {
   "display_name": "Python 3",
   "language": "python",
   "name": "python3"
  },
  "language_info": {
   "codemirror_mode": {
    "name": "ipython",
    "version": 3
   },
   "file_extension": ".py",
   "mimetype": "text/x-python",
   "name": "python",
   "nbconvert_exporter": "python",
   "pygments_lexer": "ipython3",
   "version": "3.7.3"
  }
 },
 "nbformat": 4,
 "nbformat_minor": 5
}
